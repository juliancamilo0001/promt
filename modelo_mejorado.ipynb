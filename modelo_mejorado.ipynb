 
Helsinki-NLP/opus-mt-es-en 
!pip install datasets evaluate transformers[sentencepiece]
from transformers import pipeline

# Inicializa el modelo para traducción de español a inglés
translator_es_to_en = pipeline("translation", model="Helsinki-NLP/opus-mt-es-en")

# Traduce el texto de español a inglés
translated_text_es_to_en = translator_es_to_en("hola como estan, este curso aprobaremos.")

# Inicializa el modelo para traducción de inglés a portugués
translator_en_to_pt = pipeline("translation", model="Helsinki-NLP/opus-mt-en-fr")

# Traduce el texto de inglés a portugués
translated_text_en_to_pt = translator_en_to_pt(translated_text_es_to_en[0]["translation_text"])

print("Texto en español:", "hola como estan este curso aprobaremos.")
print("Texto traducido a inglés:", translated_text_es_to_en[0]["translation_text"])
print("Texto traducido a frances:", translated_text_en_to_pt[0]["translation_text"])
